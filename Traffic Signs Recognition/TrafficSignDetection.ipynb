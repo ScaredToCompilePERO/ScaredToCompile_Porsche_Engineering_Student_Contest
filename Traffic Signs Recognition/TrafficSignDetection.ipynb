{
 "cells": [
  {
   "cell_type": "code",
   "execution_count": 31,
   "id": "8025fccf",
   "metadata": {},
   "outputs": [
    {
     "name": "stderr",
     "output_type": "stream",
     "text": [
      "Cloning into 'yolov5'...\n",
      "fatal: unable to access 'https://github.com/ultralytics/yolov5.git/': Could not resolve host: github.com\n"
     ]
    }
   ],
   "source": [
    "!git clone https://github.com/ultralytics/yolov5.git"
   ]
  },
  {
   "cell_type": "code",
   "execution_count": 1,
   "id": "3d70d53c",
   "metadata": {},
   "outputs": [
    {
     "name": "stdout",
     "output_type": "stream",
     "text": [
      "C:\\Users\\pero_student01\\Desktop\\PEROContest\\ScaredToCompile_Porsche_Engineering_Student_Contest\\Traffic Signs Recognition\\yolov5\n"
     ]
    }
   ],
   "source": [
    "cd yolov5"
   ]
  },
  {
   "cell_type": "code",
   "execution_count": 2,
   "id": "9369b08a",
   "metadata": {},
   "outputs": [
    {
     "name": "stdout",
     "output_type": "stream",
     "text": [
      "Requirement already satisfied: gitpython>=3.1.30 in c:\\users\\pero_student01\\appdata\\local\\programs\\python\\python39\\lib\\site-packages (from -r requirements.txt (line 5)) (3.1.31)\n",
      "Requirement already satisfied: matplotlib>=3.2.2 in c:\\users\\pero_student01\\appdata\\local\\programs\\python\\python39\\lib\\site-packages (from -r requirements.txt (line 6)) (3.7.1)\n",
      "Requirement already satisfied: numpy>=1.18.5 in c:\\users\\pero_student01\\appdata\\local\\programs\\python\\python39\\lib\\site-packages (from -r requirements.txt (line 7)) (1.24.2)\n",
      "Requirement already satisfied: opencv-python>=4.1.1 in c:\\users\\pero_student01\\appdata\\local\\programs\\python\\python39\\lib\\site-packages (from -r requirements.txt (line 8)) (4.7.0.72)\n",
      "Requirement already satisfied: Pillow>=7.1.2 in c:\\users\\pero_student01\\appdata\\local\\programs\\python\\python39\\lib\\site-packages (from -r requirements.txt (line 9)) (9.4.0)\n",
      "Requirement already satisfied: psutil in c:\\users\\pero_student01\\appdata\\local\\programs\\python\\python39\\lib\\site-packages (from -r requirements.txt (line 10)) (5.9.4)\n",
      "Requirement already satisfied: PyYAML>=5.3.1 in c:\\users\\pero_student01\\appdata\\local\\programs\\python\\python39\\lib\\site-packages (from -r requirements.txt (line 11)) (6.0)\n",
      "Requirement already satisfied: requests>=2.23.0 in c:\\users\\pero_student01\\appdata\\local\\programs\\python\\python39\\lib\\site-packages (from -r requirements.txt (line 12)) (2.28.2)\n",
      "Requirement already satisfied: scipy>=1.4.1 in c:\\users\\pero_student01\\appdata\\local\\programs\\python\\python39\\lib\\site-packages (from -r requirements.txt (line 13)) (1.10.1)\n",
      "Requirement already satisfied: thop>=0.1.1 in c:\\users\\pero_student01\\appdata\\local\\programs\\python\\python39\\lib\\site-packages (from -r requirements.txt (line 14)) (0.1.1.post2209072238)\n",
      "Requirement already satisfied: torch>=1.7.0 in c:\\users\\pero_student01\\appdata\\local\\programs\\python\\python39\\lib\\site-packages (from -r requirements.txt (line 15)) (2.0.0)\n",
      "Requirement already satisfied: torchvision>=0.8.1 in c:\\users\\pero_student01\\appdata\\local\\programs\\python\\python39\\lib\\site-packages (from -r requirements.txt (line 16)) (0.15.1)\n",
      "Requirement already satisfied: tqdm>=4.64.0 in c:\\users\\pero_student01\\appdata\\local\\programs\\python\\python39\\lib\\site-packages (from -r requirements.txt (line 17)) (4.65.0)\n",
      "Requirement already satisfied: tensorboard>=2.4.1 in c:\\users\\pero_student01\\appdata\\local\\programs\\python\\python39\\lib\\site-packages (from -r requirements.txt (line 21)) (2.12.0)\n",
      "Requirement already satisfied: pandas>=1.1.4 in c:\\users\\pero_student01\\appdata\\local\\programs\\python\\python39\\lib\\site-packages (from -r requirements.txt (line 26)) (1.5.3)\n",
      "Requirement already satisfied: seaborn>=0.11.0 in c:\\users\\pero_student01\\appdata\\local\\programs\\python\\python39\\lib\\site-packages (from -r requirements.txt (line 27)) (0.12.2)\n",
      "Requirement already satisfied: setuptools>=65.5.1 in c:\\users\\pero_student01\\appdata\\local\\programs\\python\\python39\\lib\\site-packages (from -r requirements.txt (line 41)) (67.6.0)\n",
      "Requirement already satisfied: gitdb<5,>=4.0.1 in c:\\users\\pero_student01\\appdata\\local\\programs\\python\\python39\\lib\\site-packages (from gitpython>=3.1.30->-r requirements.txt (line 5)) (4.0.10)\n",
      "Requirement already satisfied: cycler>=0.10 in c:\\users\\pero_student01\\appdata\\local\\programs\\python\\python39\\lib\\site-packages (from matplotlib>=3.2.2->-r requirements.txt (line 6)) (0.11.0)\n",
      "Requirement already satisfied: pyparsing>=2.3.1 in c:\\users\\pero_student01\\appdata\\local\\programs\\python\\python39\\lib\\site-packages (from matplotlib>=3.2.2->-r requirements.txt (line 6)) (3.0.9)\n",
      "Requirement already satisfied: fonttools>=4.22.0 in c:\\users\\pero_student01\\appdata\\local\\programs\\python\\python39\\lib\\site-packages (from matplotlib>=3.2.2->-r requirements.txt (line 6)) (4.39.2)\n",
      "Requirement already satisfied: contourpy>=1.0.1 in c:\\users\\pero_student01\\appdata\\local\\programs\\python\\python39\\lib\\site-packages (from matplotlib>=3.2.2->-r requirements.txt (line 6)) (1.0.7)\n",
      "Requirement already satisfied: kiwisolver>=1.0.1 in c:\\users\\pero_student01\\appdata\\local\\programs\\python\\python39\\lib\\site-packages (from matplotlib>=3.2.2->-r requirements.txt (line 6)) (1.4.4)\n",
      "Requirement already satisfied: packaging>=20.0 in c:\\users\\pero_student01\\appdata\\local\\programs\\python\\python39\\lib\\site-packages (from matplotlib>=3.2.2->-r requirements.txt (line 6)) (23.0)\n",
      "Requirement already satisfied: importlib-resources>=3.2.0; python_version < \"3.10\" in c:\\users\\pero_student01\\appdata\\local\\programs\\python\\python39\\lib\\site-packages (from matplotlib>=3.2.2->-r requirements.txt (line 6)) (5.12.0)\n",
      "Requirement already satisfied: python-dateutil>=2.7 in c:\\users\\pero_student01\\appdata\\local\\programs\\python\\python39\\lib\\site-packages (from matplotlib>=3.2.2->-r requirements.txt (line 6)) (2.8.2)\n",
      "Requirement already satisfied: urllib3<1.27,>=1.21.1 in c:\\users\\pero_student01\\appdata\\local\\programs\\python\\python39\\lib\\site-packages (from requests>=2.23.0->-r requirements.txt (line 12)) (1.26.15)\n",
      "Requirement already satisfied: idna<4,>=2.5 in c:\\users\\pero_student01\\appdata\\local\\programs\\python\\python39\\lib\\site-packages (from requests>=2.23.0->-r requirements.txt (line 12)) (3.4)\n",
      "Requirement already satisfied: certifi>=2017.4.17 in c:\\users\\pero_student01\\appdata\\local\\programs\\python\\python39\\lib\\site-packages (from requests>=2.23.0->-r requirements.txt (line 12)) (2022.12.7)\n",
      "Requirement already satisfied: charset-normalizer<4,>=2 in c:\\users\\pero_student01\\appdata\\local\\programs\\python\\python39\\lib\\site-packages (from requests>=2.23.0->-r requirements.txt (line 12)) (3.1.0)\n",
      "Requirement already satisfied: networkx in c:\\users\\pero_student01\\appdata\\local\\programs\\python\\python39\\lib\\site-packages (from torch>=1.7.0->-r requirements.txt (line 15)) (3.0)\n",
      "Requirement already satisfied: filelock in c:\\users\\pero_student01\\appdata\\local\\programs\\python\\python39\\lib\\site-packages (from torch>=1.7.0->-r requirements.txt (line 15)) (3.10.4)\n",
      "Requirement already satisfied: typing-extensions in c:\\users\\pero_student01\\appdata\\local\\programs\\python\\python39\\lib\\site-packages (from torch>=1.7.0->-r requirements.txt (line 15)) (4.5.0)\n",
      "Requirement already satisfied: jinja2 in c:\\users\\pero_student01\\appdata\\local\\programs\\python\\python39\\lib\\site-packages (from torch>=1.7.0->-r requirements.txt (line 15)) (3.1.2)\n",
      "Requirement already satisfied: sympy in c:\\users\\pero_student01\\appdata\\local\\programs\\python\\python39\\lib\\site-packages (from torch>=1.7.0->-r requirements.txt (line 15)) (1.11.1)\n",
      "Requirement already satisfied: colorama; platform_system == \"Windows\" in c:\\users\\pero_student01\\appdata\\local\\programs\\python\\python39\\lib\\site-packages (from tqdm>=4.64.0->-r requirements.txt (line 17)) (0.4.6)\n",
      "Requirement already satisfied: grpcio>=1.48.2 in c:\\users\\pero_student01\\appdata\\local\\programs\\python\\python39\\lib\\site-packages (from tensorboard>=2.4.1->-r requirements.txt (line 21)) (1.51.3)\n",
      "Requirement already satisfied: protobuf>=3.19.6 in c:\\users\\pero_student01\\appdata\\local\\programs\\python\\python39\\lib\\site-packages (from tensorboard>=2.4.1->-r requirements.txt (line 21)) (4.22.1)\n",
      "Requirement already satisfied: wheel>=0.26 in c:\\users\\pero_student01\\appdata\\local\\programs\\python\\python39\\lib\\site-packages (from tensorboard>=2.4.1->-r requirements.txt (line 21)) (0.40.0)\n",
      "Requirement already satisfied: google-auth<3,>=1.6.3 in c:\\users\\pero_student01\\appdata\\local\\programs\\python\\python39\\lib\\site-packages (from tensorboard>=2.4.1->-r requirements.txt (line 21)) (2.16.3)\n",
      "Requirement already satisfied: werkzeug>=1.0.1 in c:\\users\\pero_student01\\appdata\\local\\programs\\python\\python39\\lib\\site-packages (from tensorboard>=2.4.1->-r requirements.txt (line 21)) (2.2.3)\n",
      "Requirement already satisfied: tensorboard-plugin-wit>=1.6.0 in c:\\users\\pero_student01\\appdata\\local\\programs\\python\\python39\\lib\\site-packages (from tensorboard>=2.4.1->-r requirements.txt (line 21)) (1.8.1)\n",
      "Requirement already satisfied: absl-py>=0.4 in c:\\users\\pero_student01\\appdata\\local\\programs\\python\\python39\\lib\\site-packages (from tensorboard>=2.4.1->-r requirements.txt (line 21)) (1.4.0)\n",
      "Requirement already satisfied: markdown>=2.6.8 in c:\\users\\pero_student01\\appdata\\local\\programs\\python\\python39\\lib\\site-packages (from tensorboard>=2.4.1->-r requirements.txt (line 21)) (3.4.3)\n",
      "Requirement already satisfied: tensorboard-data-server<0.8.0,>=0.7.0 in c:\\users\\pero_student01\\appdata\\local\\programs\\python\\python39\\lib\\site-packages (from tensorboard>=2.4.1->-r requirements.txt (line 21)) (0.7.0)\n",
      "Requirement already satisfied: google-auth-oauthlib<0.5,>=0.4.1 in c:\\users\\pero_student01\\appdata\\local\\programs\\python\\python39\\lib\\site-packages (from tensorboard>=2.4.1->-r requirements.txt (line 21)) (0.4.6)\n",
      "Requirement already satisfied: pytz>=2020.1 in c:\\users\\pero_student01\\appdata\\local\\programs\\python\\python39\\lib\\site-packages (from pandas>=1.1.4->-r requirements.txt (line 26)) (2022.7.1)\n",
      "Requirement already satisfied: smmap<6,>=3.0.1 in c:\\users\\pero_student01\\appdata\\local\\programs\\python\\python39\\lib\\site-packages (from gitdb<5,>=4.0.1->gitpython>=3.1.30->-r requirements.txt (line 5)) (5.0.0)\n",
      "Requirement already satisfied: zipp>=3.1.0; python_version < \"3.10\" in c:\\users\\pero_student01\\appdata\\local\\programs\\python\\python39\\lib\\site-packages (from importlib-resources>=3.2.0; python_version < \"3.10\"->matplotlib>=3.2.2->-r requirements.txt (line 6)) (3.15.0)\n",
      "Requirement already satisfied: six>=1.5 in c:\\users\\pero_student01\\appdata\\local\\programs\\python\\python39\\lib\\site-packages (from python-dateutil>=2.7->matplotlib>=3.2.2->-r requirements.txt (line 6)) (1.16.0)\n",
      "Requirement already satisfied: MarkupSafe>=2.0 in c:\\users\\pero_student01\\appdata\\local\\programs\\python\\python39\\lib\\site-packages (from jinja2->torch>=1.7.0->-r requirements.txt (line 15)) (2.1.2)\n",
      "Requirement already satisfied: mpmath>=0.19 in c:\\users\\pero_student01\\appdata\\local\\programs\\python\\python39\\lib\\site-packages (from sympy->torch>=1.7.0->-r requirements.txt (line 15)) (1.3.0)\n",
      "Requirement already satisfied: cachetools<6.0,>=2.0.0 in c:\\users\\pero_student01\\appdata\\local\\programs\\python\\python39\\lib\\site-packages (from google-auth<3,>=1.6.3->tensorboard>=2.4.1->-r requirements.txt (line 21)) (5.3.0)\n",
      "Requirement already satisfied: pyasn1-modules>=0.2.1 in c:\\users\\pero_student01\\appdata\\local\\programs\\python\\python39\\lib\\site-packages (from google-auth<3,>=1.6.3->tensorboard>=2.4.1->-r requirements.txt (line 21)) (0.2.8)\n",
      "Requirement already satisfied: rsa<5,>=3.1.4; python_version >= \"3.6\" in c:\\users\\pero_student01\\appdata\\local\\programs\\python\\python39\\lib\\site-packages (from google-auth<3,>=1.6.3->tensorboard>=2.4.1->-r requirements.txt (line 21)) (4.9)\n",
      "Requirement already satisfied: importlib-metadata>=4.4; python_version < \"3.10\" in c:\\users\\pero_student01\\appdata\\local\\programs\\python\\python39\\lib\\site-packages (from markdown>=2.6.8->tensorboard>=2.4.1->-r requirements.txt (line 21)) (6.1.0)\n",
      "Requirement already satisfied: requests-oauthlib>=0.7.0 in c:\\users\\pero_student01\\appdata\\local\\programs\\python\\python39\\lib\\site-packages (from google-auth-oauthlib<0.5,>=0.4.1->tensorboard>=2.4.1->-r requirements.txt (line 21)) (1.3.1)\n",
      "Requirement already satisfied: pyasn1<0.5.0,>=0.4.6 in c:\\users\\pero_student01\\appdata\\local\\programs\\python\\python39\\lib\\site-packages (from pyasn1-modules>=0.2.1->google-auth<3,>=1.6.3->tensorboard>=2.4.1->-r requirements.txt (line 21)) (0.4.8)\n",
      "Requirement already satisfied: oauthlib>=3.0.0 in c:\\users\\pero_student01\\appdata\\local\\programs\\python\\python39\\lib\\site-packages (from requests-oauthlib>=0.7.0->google-auth-oauthlib<0.5,>=0.4.1->tensorboard>=2.4.1->-r requirements.txt (line 21)) (3.2.2)\n",
      "Note: you may need to restart the kernel to use updated packages.\n"
     ]
    },
    {
     "name": "stderr",
     "output_type": "stream",
     "text": [
      "WARNING: You are using pip version 20.2.3; however, version 23.0.1 is available.\n",
      "You should consider upgrading via the 'C:\\Users\\pero_student01\\AppData\\Local\\Programs\\Python\\Python39\\python.exe -m pip install --upgrade pip' command.\n"
     ]
    }
   ],
   "source": [
    "pip install -r requirements.txt"
   ]
  },
  {
   "cell_type": "code",
   "execution_count": 3,
   "id": "ffa9a380",
   "metadata": {},
   "outputs": [],
   "source": [
    "import torch\n",
    "from matplotlib import pyplot as plt\n",
    "import numpy as np\n",
    "import cv2\n",
    "import os"
   ]
  },
  {
   "cell_type": "code",
   "execution_count": 4,
   "id": "683eacd7",
   "metadata": {},
   "outputs": [],
   "source": [
    "IMAGES_PATH = os.path.join('data','images')\n",
    "labels= [\"trafficlight\", \"speedlimit\", \"crosswalk\", \"stop\"]"
   ]
  },
  {
   "cell_type": "code",
   "execution_count": 8,
   "id": "36381c59",
   "metadata": {},
   "outputs": [
    {
     "name": "stderr",
     "output_type": "stream",
     "text": [
      "Cloning into 'labelImg'...\n",
      "fatal: unable to access 'https://github.com/tzutalin/labelImg.git/': Could not resolve host: github.com\n"
     ]
    }
   ],
   "source": [
    "!git clone https://github.com/tzutalin/labelImg.git"
   ]
  },
  {
   "cell_type": "code",
   "execution_count": 7,
   "id": "cc4e65b4",
   "metadata": {},
   "outputs": [
    {
     "name": "stdout",
     "output_type": "stream",
     "text": [
      "Requirement already up-to-date: pyqt5 in c:\\users\\pero_student01\\appdata\\local\\programs\\python\\python39\\lib\\site-packages (5.15.9)\n",
      "Requirement already up-to-date: lxml in c:\\users\\pero_student01\\appdata\\local\\programs\\python\\python39\\lib\\site-packages (4.9.2)\n",
      "Requirement already satisfied, skipping upgrade: PyQt5-Qt5>=5.15.2 in c:\\users\\pero_student01\\appdata\\local\\programs\\python\\python39\\lib\\site-packages (from pyqt5) (5.15.2)\n",
      "Requirement already satisfied, skipping upgrade: PyQt5-sip<13,>=12.11 in c:\\users\\pero_student01\\appdata\\local\\programs\\python\\python39\\lib\\site-packages (from pyqt5) (12.11.1)\n"
     ]
    },
    {
     "name": "stderr",
     "output_type": "stream",
     "text": [
      "WARNING: Retrying (Retry(total=4, connect=None, read=None, redirect=None, status=None)) after connection broken by 'NewConnectionError('<pip._vendor.urllib3.connection.HTTPSConnection object at 0x0000029362C67FD0>: Failed to establish a new connection: [Errno 11001] getaddrinfo failed')': /simple/pyqt5/\n",
      "WARNING: Retrying (Retry(total=3, connect=None, read=None, redirect=None, status=None)) after connection broken by 'NewConnectionError('<pip._vendor.urllib3.connection.HTTPSConnection object at 0x0000029362C84D00>: Failed to establish a new connection: [Errno 11001] getaddrinfo failed')': /simple/pyqt5/\n",
      "WARNING: Retrying (Retry(total=2, connect=None, read=None, redirect=None, status=None)) after connection broken by 'NewConnectionError('<pip._vendor.urllib3.connection.HTTPSConnection object at 0x0000029362455460>: Failed to establish a new connection: [Errno 11001] getaddrinfo failed')': /simple/pyqt5/\n",
      "WARNING: Retrying (Retry(total=1, connect=None, read=None, redirect=None, status=None)) after connection broken by 'NewConnectionError('<pip._vendor.urllib3.connection.HTTPSConnection object at 0x0000029362455AF0>: Failed to establish a new connection: [Errno 11001] getaddrinfo failed')': /simple/pyqt5/\n",
      "WARNING: Retrying (Retry(total=0, connect=None, read=None, redirect=None, status=None)) after connection broken by 'NewConnectionError('<pip._vendor.urllib3.connection.HTTPSConnection object at 0x0000029362CA4670>: Failed to establish a new connection: [Errno 11001] getaddrinfo failed')': /simple/pyqt5/\n",
      "WARNING: Retrying (Retry(total=4, connect=None, read=None, redirect=None, status=None)) after connection broken by 'NewConnectionError('<pip._vendor.urllib3.connection.HTTPSConnection object at 0x0000029362CE8100>: Failed to establish a new connection: [Errno 11001] getaddrinfo failed')': /simple/lxml/\n",
      "WARNING: Retrying (Retry(total=3, connect=None, read=None, redirect=None, status=None)) after connection broken by 'NewConnectionError('<pip._vendor.urllib3.connection.HTTPSConnection object at 0x0000029362CE83D0>: Failed to establish a new connection: [Errno 11001] getaddrinfo failed')': /simple/lxml/\n",
      "WARNING: Retrying (Retry(total=2, connect=None, read=None, redirect=None, status=None)) after connection broken by 'NewConnectionError('<pip._vendor.urllib3.connection.HTTPSConnection object at 0x0000029362CE8520>: Failed to establish a new connection: [Errno 11001] getaddrinfo failed')': /simple/lxml/\n",
      "WARNING: Retrying (Retry(total=1, connect=None, read=None, redirect=None, status=None)) after connection broken by 'NewConnectionError('<pip._vendor.urllib3.connection.HTTPSConnection object at 0x0000029362CE8670>: Failed to establish a new connection: [Errno 11001] getaddrinfo failed')': /simple/lxml/\n",
      "WARNING: Retrying (Retry(total=0, connect=None, read=None, redirect=None, status=None)) after connection broken by 'NewConnectionError('<pip._vendor.urllib3.connection.HTTPSConnection object at 0x0000029362CE87C0>: Failed to establish a new connection: [Errno 11001] getaddrinfo failed')': /simple/lxml/\n",
      "WARNING: You are using pip version 20.2.3; however, version 23.0.1 is available.\n",
      "You should consider upgrading via the 'c:\\users\\pero_student01\\appdata\\local\\programs\\python\\python39\\python.exe -m pip install --upgrade pip' command.\n",
      "'pyqt5' is not recognized as an internal or external command,\n",
      "operable program or batch file.\n"
     ]
    }
   ],
   "source": [
    "!pip install pyqt5 lxml --upgrade\n",
    "!cd labelImg && pyqt5 -o libs/resources.py resources.qrc"
   ]
  },
  {
   "cell_type": "code",
   "execution_count": 5,
   "id": "7612d014",
   "metadata": {},
   "outputs": [
    {
     "name": "stdout",
     "output_type": "stream",
     "text": [
      "C:\\Users\\pero_student01\\Desktop\\PEROContest\\ScaredToCompile_Porsche_Engineering_Student_Contest\\Traffic Signs Recognition\n"
     ]
    }
   ],
   "source": [
    "cd .."
   ]
  },
  {
   "cell_type": "code",
   "execution_count": 6,
   "id": "3947a961",
   "metadata": {},
   "outputs": [
    {
     "name": "stdout",
     "output_type": "stream",
     "text": [
      "[WinError 2] The system cannot find the file specified: 'labelimg'\n",
      "C:\\Users\\pero_student01\\Desktop\\PEROContest\\ScaredToCompile_Porsche_Engineering_Student_Contest\\Traffic Signs Recognition\n"
     ]
    }
   ],
   "source": [
    "cd labelimg"
   ]
  },
  {
   "cell_type": "code",
   "execution_count": 13,
   "id": "c6a40956",
   "metadata": {},
   "outputs": [
    {
     "name": "stderr",
     "output_type": "stream",
     "text": [
      "python: can't open file 'C:\\Users\\pero_student01\\Desktop\\PEROContest\\ScaredToCompile_Porsche_Engineering_Student_Contest\\Traffic Signs Recognition\\labelImg.py': [Errno 2] No such file or directory\n"
     ]
    }
   ],
   "source": [
    "!python labelImg.py"
   ]
  },
  {
   "cell_type": "code",
   "execution_count": 26,
   "id": "97b72b7c",
   "metadata": {},
   "outputs": [
    {
     "name": "stdout",
     "output_type": "stream",
     "text": [
      "C:\\Users\\pero_student01\\Desktop\\PEROContest\\ScaredToCompile_Porsche_Engineering_Student_Contest\n"
     ]
    }
   ],
   "source": [
    "cd .."
   ]
  },
  {
   "cell_type": "code",
   "execution_count": 9,
   "id": "220678ee",
   "metadata": {},
   "outputs": [
    {
     "name": "stdout",
     "output_type": "stream",
     "text": [
      "C:\\Users\\pero_student01\\Desktop\\PEROContest\\ScaredToCompile_Porsche_Engineering_Student_Contest\\Traffic Signs Recognition\\yolov5\n"
     ]
    }
   ],
   "source": [
    "cd yolov5"
   ]
  },
  {
   "cell_type": "code",
   "execution_count": 25,
   "id": "83fbacbd",
   "metadata": {},
   "outputs": [
    {
     "name": "stderr",
     "output_type": "stream",
     "text": [
      "python: can't open file 'C:\\Users\\pero_student01\\Desktop\\PEROContest\\ScaredToCompile_Porsche_Engineering_Student_Contest\\Traffic Signs Recognition\\train.py': [Errno 2] No such file or directory\n"
     ]
    }
   ],
   "source": [
    "!python train.py --img 320 --batch 16 --epochs 5 --data dataset.yaml --weights yolov5s.pt"
   ]
  },
  {
   "cell_type": "code",
   "execution_count": 14,
   "id": "48e0556e",
   "metadata": {},
   "outputs": [
    {
     "name": "stderr",
     "output_type": "stream",
     "text": [
      "YOLOv5  2023-3-25 Python-3.9.0 torch-2.0.0+cpu CPU\n",
      "\n",
      "Fusing layers... \n",
      "Model summary: 157 layers, 7020913 parameters, 0 gradients, 15.8 GFLOPs\n",
      "Adding AutoShape... \n"
     ]
    }
   ],
   "source": [
    "model = torch.hub.load('','custom', path='runs/train/exp2/weights/last.pt', force_reload='true', source = 'local')"
   ]
  },
  {
   "cell_type": "code",
   "execution_count": 15,
   "id": "1f969a9a",
   "metadata": {},
   "outputs": [],
   "source": [
    "cap=cv2.VideoCapture('traffic.mp4')\n",
    "while cap.isOpened():\n",
    "    ret, frame=cap.read()\n",
    "    results=model(frame)\n",
    "    cv2.imshow('test',np.squeeze(results.render()))\n",
    "    if cv2.waitKey(10) & 0xFF == ord('q'):\n",
    "        break\n",
    "cap.release()\n",
    "cv2.destroyAllWindows()"
   ]
  },
  {
   "cell_type": "code",
   "execution_count": null,
   "id": "6c99e8b6",
   "metadata": {},
   "outputs": [],
   "source": []
  }
 ],
 "metadata": {
  "kernelspec": {
   "display_name": "Python 3 (ipykernel)",
   "language": "python",
   "name": "python3"
  },
  "language_info": {
   "codemirror_mode": {
    "name": "ipython",
    "version": 3
   },
   "file_extension": ".py",
   "mimetype": "text/x-python",
   "name": "python",
   "nbconvert_exporter": "python",
   "pygments_lexer": "ipython3",
   "version": "3.9.0"
  }
 },
 "nbformat": 4,
 "nbformat_minor": 5
}
